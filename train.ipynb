{
 "cells": [
  {
   "cell_type": "code",
   "execution_count": 71,
   "metadata": {},
   "outputs": [
    {
     "name": "stdout",
     "output_type": "stream",
     "text": [
      "The autoreload extension is already loaded. To reload it, use:\n",
      "  %reload_ext autoreload\n"
     ]
    }
   ],
   "source": [
    "%load_ext autoreload\n",
    "%autoreload 2"
   ]
  },
  {
   "cell_type": "code",
   "execution_count": 72,
   "metadata": {},
   "outputs": [
    {
     "name": "stdout",
     "output_type": "stream",
     "text": [
      "Mon Jan  8 21:53:55 2024       \n",
      "+---------------------------------------------------------------------------------------+\n",
      "| NVIDIA-SMI 530.30.02              Driver Version: 530.30.02    CUDA Version: 12.1     |\n",
      "|-----------------------------------------+----------------------+----------------------+\n",
      "| GPU  Name                  Persistence-M| Bus-Id        Disp.A | Volatile Uncorr. ECC |\n",
      "| Fan  Temp  Perf            Pwr:Usage/Cap|         Memory-Usage | GPU-Util  Compute M. |\n",
      "|                                         |                      |               MIG M. |\n",
      "|=========================================+======================+======================|\n",
      "|   0  NVIDIA A10                      On | 00000000:00:04.0 Off |                    0 |\n",
      "|  0%   42C    P0               58W / 150W|    946MiB / 23028MiB |      0%      Default |\n",
      "|                                         |                      |                  N/A |\n",
      "+-----------------------------------------+----------------------+----------------------+\n",
      "                                                                                         \n",
      "+---------------------------------------------------------------------------------------+\n",
      "| Processes:                                                                            |\n",
      "|  GPU   GI   CI        PID   Type   Process name                            GPU Memory |\n",
      "|        ID   ID                                                             Usage      |\n",
      "|=======================================================================================|\n",
      "|    0   N/A  N/A    795980      C   ...miniforge3/envs/backflip/bin/python      944MiB |\n",
      "+---------------------------------------------------------------------------------------+\n"
     ]
    }
   ],
   "source": [
    "!nvidia-smi"
   ]
  },
  {
   "cell_type": "code",
   "execution_count": 73,
   "metadata": {},
   "outputs": [],
   "source": [
    "from dataset import Model10NetDataset\n",
    "from trainer import Model10NetPointNetTrainer\n",
    "from model import PointNet\n",
    "from torch.utils.data import Subset"
   ]
  },
  {
   "cell_type": "code",
   "execution_count": 74,
   "metadata": {},
   "outputs": [
    {
     "data": {
      "text/plain": [
       "(3991, 908)"
      ]
     },
     "execution_count": 74,
     "metadata": {},
     "output_type": "execute_result"
    }
   ],
   "source": [
    "DATASET_PATH = \"./ModelNet10\"\n",
    "\n",
    "train_set = Model10NetDataset(path=DATASET_PATH, train=True)\n",
    "test_set = Model10NetDataset(path=DATASET_PATH, train=False)\n",
    "\n",
    "len(train_set), len(test_set)"
   ]
  },
  {
   "cell_type": "code",
   "execution_count": 75,
   "metadata": {},
   "outputs": [
    {
     "data": {
      "text/plain": [
       "PointNet(\n",
       "  (input_transform): TNet(\n",
       "    (mlp): Sequential(\n",
       "      (0): Conv1d(3, 64, kernel_size=(1,), stride=(1,))\n",
       "      (1): BatchNorm1d(64, eps=1e-05, momentum=0.1, affine=True, track_running_stats=True)\n",
       "      (2): ReLU()\n",
       "      (3): Conv1d(64, 128, kernel_size=(1,), stride=(1,))\n",
       "      (4): BatchNorm1d(128, eps=1e-05, momentum=0.1, affine=True, track_running_stats=True)\n",
       "      (5): ReLU()\n",
       "      (6): Conv1d(128, 1024, kernel_size=(1,), stride=(1,))\n",
       "      (7): BatchNorm1d(1024, eps=1e-05, momentum=0.1, affine=True, track_running_stats=True)\n",
       "      (8): ReLU()\n",
       "    )\n",
       "    (fc): Sequential(\n",
       "      (0): Linear(in_features=1024, out_features=512, bias=True)\n",
       "      (1): BatchNorm1d(512, eps=1e-05, momentum=0.1, affine=True, track_running_stats=True)\n",
       "      (2): ReLU()\n",
       "      (3): Linear(in_features=512, out_features=256, bias=True)\n",
       "      (4): BatchNorm1d(256, eps=1e-05, momentum=0.1, affine=True, track_running_stats=True)\n",
       "      (5): ReLU()\n",
       "      (6): Linear(in_features=256, out_features=9, bias=True)\n",
       "    )\n",
       "    (batchnorm): BatchNorm1d(3, eps=1e-05, momentum=0.1, affine=True, track_running_stats=True)\n",
       "  )\n",
       "  (mlp1): Sequential(\n",
       "    (0): Conv1d(3, 64, kernel_size=(1,), stride=(1,))\n",
       "    (1): BatchNorm1d(64, eps=1e-05, momentum=0.1, affine=True, track_running_stats=True)\n",
       "    (2): ReLU()\n",
       "    (3): Conv1d(64, 64, kernel_size=(1,), stride=(1,))\n",
       "    (4): BatchNorm1d(64, eps=1e-05, momentum=0.1, affine=True, track_running_stats=True)\n",
       "    (5): ReLU()\n",
       "  )\n",
       "  (feature_transform): TNet(\n",
       "    (mlp): Sequential(\n",
       "      (0): Conv1d(64, 64, kernel_size=(1,), stride=(1,))\n",
       "      (1): BatchNorm1d(64, eps=1e-05, momentum=0.1, affine=True, track_running_stats=True)\n",
       "      (2): ReLU()\n",
       "      (3): Conv1d(64, 128, kernel_size=(1,), stride=(1,))\n",
       "      (4): BatchNorm1d(128, eps=1e-05, momentum=0.1, affine=True, track_running_stats=True)\n",
       "      (5): ReLU()\n",
       "      (6): Conv1d(128, 1024, kernel_size=(1,), stride=(1,))\n",
       "      (7): BatchNorm1d(1024, eps=1e-05, momentum=0.1, affine=True, track_running_stats=True)\n",
       "      (8): ReLU()\n",
       "    )\n",
       "    (fc): Sequential(\n",
       "      (0): Linear(in_features=1024, out_features=512, bias=True)\n",
       "      (1): BatchNorm1d(512, eps=1e-05, momentum=0.1, affine=True, track_running_stats=True)\n",
       "      (2): ReLU()\n",
       "      (3): Linear(in_features=512, out_features=256, bias=True)\n",
       "      (4): BatchNorm1d(256, eps=1e-05, momentum=0.1, affine=True, track_running_stats=True)\n",
       "      (5): ReLU()\n",
       "      (6): Linear(in_features=256, out_features=4096, bias=True)\n",
       "    )\n",
       "    (batchnorm): BatchNorm1d(64, eps=1e-05, momentum=0.1, affine=True, track_running_stats=True)\n",
       "  )\n",
       "  (mlp2): Sequential(\n",
       "    (0): Conv1d(64, 64, kernel_size=(1,), stride=(1,))\n",
       "    (1): BatchNorm1d(64, eps=1e-05, momentum=0.1, affine=True, track_running_stats=True)\n",
       "    (2): ReLU()\n",
       "    (3): Conv1d(64, 128, kernel_size=(1,), stride=(1,))\n",
       "    (4): BatchNorm1d(128, eps=1e-05, momentum=0.1, affine=True, track_running_stats=True)\n",
       "    (5): ReLU()\n",
       "    (6): Conv1d(128, 1024, kernel_size=(1,), stride=(1,))\n",
       "    (7): BatchNorm1d(1024, eps=1e-05, momentum=0.1, affine=True, track_running_stats=True)\n",
       "    (8): ReLU()\n",
       "  )\n",
       "  (batchnorm1): BatchNorm1d(3, eps=1e-05, momentum=0.1, affine=True, track_running_stats=True)\n",
       "  (batchnorm2): BatchNorm1d(64, eps=1e-05, momentum=0.1, affine=True, track_running_stats=True)\n",
       "  (classifier): PointNetClassifier(\n",
       "    (classifer): Sequential(\n",
       "      (0): Linear(in_features=1024, out_features=512, bias=True)\n",
       "      (1): BatchNorm1d(512, eps=1e-05, momentum=0.1, affine=True, track_running_stats=True)\n",
       "      (2): ReLU()\n",
       "      (3): Linear(in_features=512, out_features=256, bias=True)\n",
       "      (4): Dropout(p=0.3, inplace=False)\n",
       "      (5): BatchNorm1d(256, eps=1e-05, momentum=0.1, affine=True, track_running_stats=True)\n",
       "      (6): ReLU()\n",
       "      (7): Linear(in_features=256, out_features=10, bias=True)\n",
       "    )\n",
       "  )\n",
       ")"
      ]
     },
     "execution_count": 75,
     "metadata": {},
     "output_type": "execute_result"
    }
   ],
   "source": [
    "pointnet = PointNet()\n",
    "pointnet"
   ]
  },
  {
   "cell_type": "code",
   "execution_count": 76,
   "metadata": {},
   "outputs": [],
   "source": [
    "# training configs\n",
    "EPOCHS = 100\n",
    "BATCH_SIZE = 4\n",
    "DEVICE = \"cuda\""
   ]
  },
  {
   "cell_type": "code",
   "execution_count": 77,
   "metadata": {},
   "outputs": [
    {
     "data": {
      "text/plain": [
       "2"
      ]
     },
     "execution_count": 77,
     "metadata": {},
     "output_type": "execute_result"
    }
   ],
   "source": [
    "# create smaller dataset\n",
    "train_set = Subset(train_set, range(2))\n",
    "len(train_set)"
   ]
  },
  {
   "cell_type": "code",
   "execution_count": 78,
   "metadata": {},
   "outputs": [],
   "source": [
    "trainer = Model10NetPointNetTrainer(\n",
    "    model=pointnet,\n",
    "    epochs=EPOCHS,\n",
    "    train_set=train_set,\n",
    "    test_set=test_set,\n",
    "    batch_size=BATCH_SIZE,\n",
    "    device=DEVICE\n",
    ")"
   ]
  },
  {
   "cell_type": "code",
   "execution_count": 79,
   "metadata": {},
   "outputs": [
    {
     "name": "stderr",
     "output_type": "stream",
     "text": [
      "[Epoch 0]: 100%|██████████| 1/1 [00:00<00:00, 71.35it/s, loss=32.8]\n",
      "[Epoch 1]: 100%|██████████| 1/1 [00:00<00:00, 91.03it/s, loss=32.8]\n",
      "[Epoch 2]: 100%|██████████| 1/1 [00:00<00:00, 96.33it/s, loss=35.4]\n",
      "[Epoch 3]: 100%|██████████| 1/1 [00:00<00:00, 96.67it/s, loss=35.1]\n",
      "[Epoch 4]: 100%|██████████| 1/1 [00:00<00:00, 98.16it/s, loss=36.8]\n",
      "[Epoch 5]: 100%|██████████| 1/1 [00:00<00:00, 98.48it/s, loss=41.1]\n",
      "[Epoch 6]: 100%|██████████| 1/1 [00:00<00:00, 98.28it/s, loss=41.3]\n",
      "[Epoch 7]: 100%|██████████| 1/1 [00:00<00:00, 98.63it/s, loss=41.1]\n",
      "[Epoch 8]: 100%|██████████| 1/1 [00:00<00:00, 95.48it/s, loss=40.8]\n",
      "[Epoch 9]: 100%|██████████| 1/1 [00:00<00:00, 97.08it/s, loss=41.3]\n"
     ]
    },
    {
     "name": "stderr",
     "output_type": "stream",
     "text": [
      "[Epoch 10]: 100%|██████████| 1/1 [00:00<00:00, 97.46it/s, loss=38.6]\n",
      "[Epoch 11]: 100%|██████████| 1/1 [00:00<00:00, 97.15it/s, loss=36]\n",
      "[Epoch 12]: 100%|██████████| 1/1 [00:00<00:00, 99.17it/s, loss=32.5]\n",
      "[Epoch 13]: 100%|██████████| 1/1 [00:00<00:00, 98.37it/s, loss=29.7]\n",
      "[Epoch 14]: 100%|██████████| 1/1 [00:00<00:00, 98.06it/s, loss=27.1]\n",
      "[Epoch 15]: 100%|██████████| 1/1 [00:00<00:00, 98.47it/s, loss=24.4]\n",
      "[Epoch 16]: 100%|██████████| 1/1 [00:00<00:00, 98.95it/s, loss=21.7]\n",
      "[Epoch 17]: 100%|██████████| 1/1 [00:00<00:00, 98.49it/s, loss=19.4]\n",
      "[Epoch 18]: 100%|██████████| 1/1 [00:00<00:00, 98.09it/s, loss=17.2]\n",
      "[Epoch 19]: 100%|██████████| 1/1 [00:00<00:00, 98.28it/s, loss=15.1]\n",
      "[Epoch 20]: 100%|██████████| 1/1 [00:00<00:00, 95.39it/s, loss=13.5]\n",
      "[Epoch 21]: 100%|██████████| 1/1 [00:00<00:00, 91.80it/s, loss=11.7]\n",
      "[Epoch 22]: 100%|██████████| 1/1 [00:00<00:00, 96.65it/s, loss=10.6]\n",
      "[Epoch 23]: 100%|██████████| 1/1 [00:00<00:00, 98.60it/s, loss=9.48]\n",
      "[Epoch 24]: 100%|██████████| 1/1 [00:00<00:00, 98.33it/s, loss=8.16]\n",
      "[Epoch 25]: 100%|██████████| 1/1 [00:00<00:00, 98.85it/s, loss=7.12]\n",
      "[Epoch 26]: 100%|██████████| 1/1 [00:00<00:00, 100.29it/s, loss=6.42]\n",
      "[Epoch 27]: 100%|██████████| 1/1 [00:00<00:00, 98.23it/s, loss=5.8]\n",
      "[Epoch 28]: 100%|██████████| 1/1 [00:00<00:00, 98.25it/s, loss=5.19]\n",
      "[Epoch 29]: 100%|██████████| 1/1 [00:00<00:00, 98.67it/s, loss=4.6]\n",
      "[Epoch 30]: 100%|██████████| 1/1 [00:00<00:00, 94.98it/s, loss=4.27]\n",
      "[Epoch 31]: 100%|██████████| 1/1 [00:00<00:00, 95.14it/s, loss=3.95]\n",
      "[Epoch 32]: 100%|██████████| 1/1 [00:00<00:00, 96.34it/s, loss=3.42]\n",
      "[Epoch 33]: 100%|██████████| 1/1 [00:00<00:00, 98.30it/s, loss=3.08]\n",
      "[Epoch 34]: 100%|██████████| 1/1 [00:00<00:00, 98.69it/s, loss=2.77]\n",
      "[Epoch 35]: 100%|██████████| 1/1 [00:00<00:00, 98.49it/s, loss=2.48]\n",
      "[Epoch 36]: 100%|██████████| 1/1 [00:00<00:00, 98.80it/s, loss=2.24]\n",
      "[Epoch 37]: 100%|██████████| 1/1 [00:00<00:00, 98.30it/s, loss=2.04]\n",
      "[Epoch 38]: 100%|██████████| 1/1 [00:00<00:00, 98.93it/s, loss=1.82]\n",
      "[Epoch 39]: 100%|██████████| 1/1 [00:00<00:00, 98.72it/s, loss=1.69]\n",
      "[Epoch 40]: 100%|██████████| 1/1 [00:00<00:00, 94.48it/s, loss=1.54]\n",
      "[Epoch 41]: 100%|██████████| 1/1 [00:00<00:00, 92.53it/s, loss=1.43]\n",
      "[Epoch 42]: 100%|██████████| 1/1 [00:00<00:00, 96.97it/s, loss=1.32]\n",
      "[Epoch 43]: 100%|██████████| 1/1 [00:00<00:00, 95.45it/s, loss=1.22]\n",
      "[Epoch 44]: 100%|██████████| 1/1 [00:00<00:00, 98.17it/s, loss=1.21]\n",
      "[Epoch 45]: 100%|██████████| 1/1 [00:00<00:00, 98.88it/s, loss=1.09]\n",
      "[Epoch 46]: 100%|██████████| 1/1 [00:00<00:00, 98.32it/s, loss=1.03]\n",
      "[Epoch 47]: 100%|██████████| 1/1 [00:00<00:00, 99.28it/s, loss=1.04]\n",
      "[Epoch 48]: 100%|██████████| 1/1 [00:00<00:00, 94.57it/s, loss=0.933]\n",
      "[Epoch 49]: 100%|██████████| 1/1 [00:00<00:00, 87.16it/s, loss=0.892]\n",
      "[Epoch 50]: 100%|██████████| 1/1 [00:00<00:00, 89.96it/s, loss=0.908]\n",
      "[Epoch 51]: 100%|██████████| 1/1 [00:00<00:00, 86.85it/s, loss=0.868]\n",
      "[Epoch 52]: 100%|██████████| 1/1 [00:00<00:00, 91.42it/s, loss=0.83]\n",
      "[Epoch 53]: 100%|██████████| 1/1 [00:00<00:00, 95.13it/s, loss=0.793]\n",
      "[Epoch 54]: 100%|██████████| 1/1 [00:00<00:00, 95.00it/s, loss=0.753]\n",
      "[Epoch 55]: 100%|██████████| 1/1 [00:00<00:00, 94.55it/s, loss=0.714]\n",
      "[Epoch 56]: 100%|██████████| 1/1 [00:00<00:00, 98.41it/s, loss=0.677]\n",
      "[Epoch 57]: 100%|██████████| 1/1 [00:00<00:00, 96.85it/s, loss=0.644]\n",
      "[Epoch 58]: 100%|██████████| 1/1 [00:00<00:00, 98.09it/s, loss=0.605]\n",
      "[Epoch 59]: 100%|██████████| 1/1 [00:00<00:00, 97.05it/s, loss=0.572]\n",
      "[Epoch 60]: 100%|██████████| 1/1 [00:00<00:00, 93.80it/s, loss=0.538]\n",
      "[Epoch 61]: 100%|██████████| 1/1 [00:00<00:00, 94.08it/s, loss=0.507]\n",
      "[Epoch 62]: 100%|██████████| 1/1 [00:00<00:00, 98.06it/s, loss=0.474]\n",
      "[Epoch 63]: 100%|██████████| 1/1 [00:00<00:00, 95.76it/s, loss=0.511]\n",
      "[Epoch 64]: 100%|██████████| 1/1 [00:00<00:00, 97.44it/s, loss=0.459]\n",
      "[Epoch 65]: 100%|██████████| 1/1 [00:00<00:00, 98.49it/s, loss=0.436]\n",
      "[Epoch 66]: 100%|██████████| 1/1 [00:00<00:00, 97.50it/s, loss=0.41]\n",
      "[Epoch 67]: 100%|██████████| 1/1 [00:00<00:00, 98.42it/s, loss=0.386]\n",
      "[Epoch 68]: 100%|██████████| 1/1 [00:00<00:00, 98.23it/s, loss=0.407]\n",
      "[Epoch 69]: 100%|██████████| 1/1 [00:00<00:00, 98.20it/s, loss=0.39]\n",
      "[Epoch 70]: 100%|██████████| 1/1 [00:00<00:00, 96.02it/s, loss=0.36]\n",
      "[Epoch 71]: 100%|██████████| 1/1 [00:00<00:00, 98.25it/s, loss=0.305]\n",
      "[Epoch 72]: 100%|██████████| 1/1 [00:00<00:00, 94.66it/s, loss=0.289]\n",
      "[Epoch 73]: 100%|██████████| 1/1 [00:00<00:00, 95.17it/s, loss=0.276]\n",
      "[Epoch 74]: 100%|██████████| 1/1 [00:00<00:00, 97.89it/s, loss=0.263]\n",
      "[Epoch 75]: 100%|██████████| 1/1 [00:00<00:00, 98.05it/s, loss=0.251]\n",
      "[Epoch 76]: 100%|██████████| 1/1 [00:00<00:00, 98.23it/s, loss=0.238]\n",
      "[Epoch 77]: 100%|██████████| 1/1 [00:00<00:00, 97.89it/s, loss=0.224]\n",
      "[Epoch 78]: 100%|██████████| 1/1 [00:00<00:00, 99.43it/s, loss=0.213]\n",
      "[Epoch 79]: 100%|██████████| 1/1 [00:00<00:00, 98.52it/s, loss=0.204]\n",
      "[Epoch 80]: 100%|██████████| 1/1 [00:00<00:00, 96.99it/s, loss=0.201]\n",
      "[Epoch 81]: 100%|██████████| 1/1 [00:00<00:00, 96.12it/s, loss=0.189]\n",
      "[Epoch 82]: 100%|██████████| 1/1 [00:00<00:00, 94.80it/s, loss=0.182]\n",
      "[Epoch 83]: 100%|██████████| 1/1 [00:00<00:00, 95.16it/s, loss=0.174]\n",
      "[Epoch 84]: 100%|██████████| 1/1 [00:00<00:00, 95.34it/s, loss=0.172]\n",
      "[Epoch 85]: 100%|██████████| 1/1 [00:00<00:00, 98.13it/s, loss=0.163]\n",
      "[Epoch 86]: 100%|██████████| 1/1 [00:00<00:00, 98.60it/s, loss=0.155]\n",
      "[Epoch 87]: 100%|██████████| 1/1 [00:00<00:00, 97.34it/s, loss=0.156]\n",
      "[Epoch 88]: 100%|██████████| 1/1 [00:00<00:00, 99.01it/s, loss=0.15]\n",
      "[Epoch 89]: 100%|██████████| 1/1 [00:00<00:00, 99.27it/s, loss=0.14]\n",
      "[Epoch 90]: 100%|██████████| 1/1 [00:00<00:00, 97.87it/s, loss=0.134]\n",
      "[Epoch 91]: 100%|██████████| 1/1 [00:00<00:00, 94.99it/s, loss=0.13]\n",
      "[Epoch 92]: 100%|██████████| 1/1 [00:00<00:00, 94.30it/s, loss=0.126]\n",
      "[Epoch 93]: 100%|██████████| 1/1 [00:00<00:00, 93.29it/s, loss=0.122]\n",
      "[Epoch 94]: 100%|██████████| 1/1 [00:00<00:00, 97.06it/s, loss=0.12]\n",
      "[Epoch 95]: 100%|██████████| 1/1 [00:00<00:00, 97.41it/s, loss=0.118]\n",
      "[Epoch 96]: 100%|██████████| 1/1 [00:00<00:00, 98.58it/s, loss=0.112]\n",
      "[Epoch 97]: 100%|██████████| 1/1 [00:00<00:00, 97.64it/s, loss=0.112]\n",
      "[Epoch 98]: 100%|██████████| 1/1 [00:00<00:00, 98.22it/s, loss=0.108]\n",
      "[Epoch 99]: 100%|██████████| 1/1 [00:00<00:00, 98.38it/s, loss=0.104]\n",
      "100%|██████████| 100/100 [00:01<00:00, 82.76it/s]\n"
     ]
    }
   ],
   "source": [
    "trainer.train()"
   ]
  },
  {
   "cell_type": "code",
   "execution_count": null,
   "metadata": {},
   "outputs": [],
   "source": []
  }
 ],
 "metadata": {
  "kernelspec": {
   "display_name": "backflip",
   "language": "python",
   "name": "python3"
  },
  "language_info": {
   "codemirror_mode": {
    "name": "ipython",
    "version": 3
   },
   "file_extension": ".py",
   "mimetype": "text/x-python",
   "name": "python",
   "nbconvert_exporter": "python",
   "pygments_lexer": "ipython3",
   "version": "3.10.13"
  }
 },
 "nbformat": 4,
 "nbformat_minor": 2
}
